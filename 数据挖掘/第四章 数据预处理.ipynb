{
 "cells": [
  {
   "cell_type": "markdown",
   "metadata": {},
   "source": [
    "在数据挖掘中，海量的数据有不合理的数据会影响到数据挖掘的执行效率，产生偏差，因此需要数据清洗并数据集成、转换、规约"
   ]
  },
  {
   "cell_type": "markdown",
   "metadata": {},
   "source": [
    "一方面提高数据质量，另一方面是让数据更好地适应特定的数据挖掘技术或工具"
   ]
  },
  {
   "cell_type": "markdown",
   "metadata": {},
   "source": [
    "# 4.1 数据清洗"
   ]
  },
  {
   "cell_type": "markdown",
   "metadata": {},
   "source": [
    "数据清洗主要是删除数据集中无关数据、重复数据、平滑噪音数据和处理缺失值、异常值"
   ]
  },
  {
   "cell_type": "markdown",
   "metadata": {},
   "source": [
    "## 4.1.1 缺失值处理"
   ]
  },
  {
   "cell_type": "markdown",
   "metadata": {},
   "source": [
    "删除、数据插补和不处理"
   ]
  },
  {
   "cell_type": "markdown",
   "metadata": {},
   "source": [
    "均值、中位数、众数插补  \n",
    "使用固定值  \n",
    "最近邻插补  \n",
    "回归方法  \n",
    "插值法  "
   ]
  },
  {
   "cell_type": "code",
   "execution_count": 19,
   "metadata": {},
   "outputs": [
    {
     "name": "stdout",
     "output_type": "stream",
     "text": [
      "                       0       1\n",
      "0                     日期      销量\n",
      "1    2015-03-01 00:00:00      51\n",
      "2    2015-02-28 00:00:00  2618.2\n",
      "3    2015-02-27 00:00:00  2608.4\n",
      "4    2015-02-26 00:00:00  2651.9\n",
      "..                   ...     ...\n",
      "197  2014-08-06 00:00:00  2915.8\n",
      "198  2014-08-05 00:00:00  2618.1\n",
      "199  2014-08-04 00:00:00    2993\n",
      "200  2014-08-03 00:00:00  3436.4\n",
      "201  2014-08-02 00:00:00  2261.7\n",
      "\n",
      "[202 rows x 2 columns]\n"
     ]
    }
   ],
   "source": [
    "import pandas as pd\n",
    "from scipy.interpolate import lagrange\n",
    "inputfile = '/Users/wangduan/python_machine_learning/数据挖掘/data/catering_sale.xls'\n",
    "data = pd.read_excel(inputfile, header=None)\n",
    "\n",
    "\n",
    "def ployinterp_column(s, n, k=5):\n",
    "    y = s[list(range(n-k, n)) + list(range(n+1, n+1+k))] # 取数\n",
    "    y = y[y.notnull()]\n",
    "    return lagrange(y.index,list(y))(n)  # 差值并返回差值结果\n",
    "# 逐个元素判断是否需要插值\n",
    "\n",
    "\n",
    "for i in data.columns:\n",
    "    for j in range(len(data)):\n",
    "        if (data[i].isnull())[j]:\n",
    "            data[i][j] = ployinterp_column(data[i], j)\n",
    "print(data)"
   ]
  },
  {
   "cell_type": "markdown",
   "metadata": {},
   "source": [
    "## 4.1.2 异常值处理"
   ]
  },
  {
   "cell_type": "markdown",
   "metadata": {},
   "source": [
    "删除含有异常值的数据  \n",
    "是为缺失值  \n",
    "平均值修正  \n",
    "不处理"
   ]
  },
  {
   "cell_type": "markdown",
   "metadata": {},
   "source": [
    "# 4.2 数据集成"
   ]
  },
  {
   "cell_type": "markdown",
   "metadata": {},
   "source": [
    "## 4.2.1 实体识别"
   ]
  },
  {
   "cell_type": "markdown",
   "metadata": {},
   "source": [
    "从不同数据源识别现实世界的实体"
   ]
  },
  {
   "cell_type": "markdown",
   "metadata": {},
   "source": [
    "## 4.2.2 冗余属性识别"
   ]
  },
  {
   "cell_type": "markdown",
   "metadata": {},
   "source": [
    "## 4.2.3 数据变换"
   ]
  },
  {
   "cell_type": "markdown",
   "metadata": {},
   "source": [
    "1.简单的函数变换  \n",
    "2.规范化   \n",
    "最小最大规范化  \n",
    "零-均值规范化  \n",
    "小数定标规范化  \n",
    "3.连续属性离散化  \n",
    "4.属性构成  \n",
    "5.小波变换"
   ]
  },
  {
   "cell_type": "code",
   "execution_count": 21,
   "metadata": {},
   "outputs": [
    {
     "name": "stdout",
     "output_type": "stream",
     "text": [
      "     0    1    2     3\n",
      "0   78  521  602  2863\n",
      "1  144 -600 -521  2245\n",
      "2   95 -457  468 -1283\n",
      "3   69  596  695  1054\n",
      "4  190  527  691  2051\n",
      "5  101  403  470  2487\n",
      "6  146  413  435  2571\n",
      "          0         1         2         3\n",
      "0  0.074380  0.937291  0.923520  1.000000\n",
      "1  0.619835  0.000000  0.000000  0.850941\n",
      "2  0.214876  0.119565  0.813322  0.000000\n",
      "3  0.000000  1.000000  1.000000  0.563676\n",
      "4  1.000000  0.942308  0.996711  0.804149\n",
      "5  0.264463  0.838629  0.814967  0.909310\n",
      "6  0.636364  0.846990  0.786184  0.929571\n"
     ]
    },
    {
     "data": {
      "text/html": [
       "<div>\n",
       "<style scoped>\n",
       "    .dataframe tbody tr th:only-of-type {\n",
       "        vertical-align: middle;\n",
       "    }\n",
       "\n",
       "    .dataframe tbody tr th {\n",
       "        vertical-align: top;\n",
       "    }\n",
       "\n",
       "    .dataframe thead th {\n",
       "        text-align: right;\n",
       "    }\n",
       "</style>\n",
       "<table border=\"1\" class=\"dataframe\">\n",
       "  <thead>\n",
       "    <tr style=\"text-align: right;\">\n",
       "      <th></th>\n",
       "      <th>0</th>\n",
       "      <th>1</th>\n",
       "      <th>2</th>\n",
       "      <th>3</th>\n",
       "    </tr>\n",
       "  </thead>\n",
       "  <tbody>\n",
       "    <tr>\n",
       "      <th>0</th>\n",
       "      <td>0.078</td>\n",
       "      <td>0.521</td>\n",
       "      <td>0.602</td>\n",
       "      <td>0.2863</td>\n",
       "    </tr>\n",
       "    <tr>\n",
       "      <th>1</th>\n",
       "      <td>0.144</td>\n",
       "      <td>-0.600</td>\n",
       "      <td>-0.521</td>\n",
       "      <td>0.2245</td>\n",
       "    </tr>\n",
       "    <tr>\n",
       "      <th>2</th>\n",
       "      <td>0.095</td>\n",
       "      <td>-0.457</td>\n",
       "      <td>0.468</td>\n",
       "      <td>-0.1283</td>\n",
       "    </tr>\n",
       "    <tr>\n",
       "      <th>3</th>\n",
       "      <td>0.069</td>\n",
       "      <td>0.596</td>\n",
       "      <td>0.695</td>\n",
       "      <td>0.1054</td>\n",
       "    </tr>\n",
       "    <tr>\n",
       "      <th>4</th>\n",
       "      <td>0.190</td>\n",
       "      <td>0.527</td>\n",
       "      <td>0.691</td>\n",
       "      <td>0.2051</td>\n",
       "    </tr>\n",
       "    <tr>\n",
       "      <th>5</th>\n",
       "      <td>0.101</td>\n",
       "      <td>0.403</td>\n",
       "      <td>0.470</td>\n",
       "      <td>0.2487</td>\n",
       "    </tr>\n",
       "    <tr>\n",
       "      <th>6</th>\n",
       "      <td>0.146</td>\n",
       "      <td>0.413</td>\n",
       "      <td>0.435</td>\n",
       "      <td>0.2571</td>\n",
       "    </tr>\n",
       "  </tbody>\n",
       "</table>\n",
       "</div>"
      ],
      "text/plain": [
       "       0      1      2       3\n",
       "0  0.078  0.521  0.602  0.2863\n",
       "1  0.144 -0.600 -0.521  0.2245\n",
       "2  0.095 -0.457  0.468 -0.1283\n",
       "3  0.069  0.596  0.695  0.1054\n",
       "4  0.190  0.527  0.691  0.2051\n",
       "5  0.101  0.403  0.470  0.2487\n",
       "6  0.146  0.413  0.435  0.2571"
      ]
     },
     "execution_count": 21,
     "metadata": {},
     "output_type": "execute_result"
    }
   ],
   "source": [
    "import pandas as pd\n",
    "import numpy as np\n",
    "datafile = '/Users/wangduan/python_machine_learning/数据挖掘/data/normalization_data.xls'  # 参数初始化\n",
    "data = pd.read_excel(datafile, header = None)  # 读取数据\n",
    "print(data)\n",
    " # 最小-最大规范化\n",
    "print((data - data.min()) / (data.max() - data.min()))\n",
    "# 零-均值规范化\n",
    "(data - data.mean()) / data.std()  \n",
    "# 小数定标规范化\n",
    "data / 10 ** np.ceil(np.log10(data.abs().max())）  \n"
   ]
  },
  {
   "cell_type": "markdown",
   "metadata": {},
   "source": [
    "## 4.2.7 属性构造"
   ]
  },
  {
   "cell_type": "markdown",
   "metadata": {},
   "source": [
    "在数据挖掘的过程中，为了帮助提取更有用的信息、挖掘更深层次的模式，提高挖掘结果的精度，需要利用已有的属性集构造出新的属性，并加入到现有的属性集合中。"
   ]
  },
  {
   "cell_type": "markdown",
   "metadata": {},
   "source": [
    "# 4.3 数据规约"
   ]
  },
  {
   "cell_type": "markdown",
   "metadata": {},
   "source": [
    "数据规约是将海量数据进行规约，规约之后的数据仍接近于保持原数据的完整性，但数据量小得多。"
   ]
  },
  {
   "cell_type": "markdown",
   "metadata": {},
   "source": [
    "## 4.3.1 属性规约"
   ]
  },
  {
   "cell_type": "markdown",
   "metadata": {},
   "source": [
    "属性规约常用方法有：合并属性、逐步向前选择、逐步向后删除、决策树归纳、主成分分析"
   ]
  },
  {
   "cell_type": "markdown",
   "metadata": {},
   "source": [
    "主成分分析"
   ]
  },
  {
   "cell_type": "code",
   "execution_count": 2,
   "metadata": {},
   "outputs": [
    {
     "name": "stdout",
     "output_type": "stream",
     "text": [
      "[[ 0.56788461  0.2280431   0.23281436  0.22427336  0.3358618   0.43679539\n",
      "   0.03861081  0.46466998]\n",
      " [ 0.64801531  0.24732373 -0.17085432 -0.2089819  -0.36050922 -0.55908747\n",
      "   0.00186891  0.05910423]\n",
      " [-0.45139763  0.23802089 -0.17685792 -0.11843804 -0.05173347 -0.20091919\n",
      "  -0.00124421  0.80699041]\n",
      " [-0.19404741  0.9021939  -0.00730164 -0.01424541  0.03106289  0.12563004\n",
      "   0.11152105 -0.3448924 ]\n",
      " [-0.06133747 -0.03383817  0.12652433  0.64325682 -0.3896425  -0.10681901\n",
      "   0.63233277  0.04720838]\n",
      " [ 0.02579655 -0.06678747  0.12816343 -0.57023937 -0.52642373  0.52280144\n",
      "   0.31167833  0.0754221 ]\n",
      " [-0.03800378  0.09520111  0.15593386  0.34300352 -0.56640021  0.18985251\n",
      "  -0.69902952  0.04505823]\n",
      " [-0.10147399  0.03937889  0.91023327 -0.18760016  0.06193777 -0.34598258\n",
      "  -0.02090066  0.02137393]]\n",
      "\n",
      "\n",
      "[7.74011263e-01 1.56949443e-01 4.27594216e-02 2.40659228e-02\n",
      " 1.50278048e-03 4.10990447e-04 2.07718405e-04 9.24594471e-05]\n"
     ]
    }
   ],
   "source": [
    "# 代码4-6 主成分分析降维\n",
    "import pandas as pd\n",
    "\n",
    "# 参数初始化\n",
    "inputfile = '/Users/wangduan/python_machine_learning/数据挖掘/data/principal_component.xls'\n",
    "outputfile = '/Users/wangduan/python_machine_learning/数据挖掘/dimention_reducted.xls'  # 降维后的数据\n",
    "\n",
    "data = pd.read_excel(inputfile, header = None)  # 读入数据\n",
    "\n",
    "from sklearn.decomposition import PCA\n",
    "\n",
    "pca = PCA()\n",
    "pca.fit(data)\n",
    "print(pca.components_)  # 返回模型的各个特征向量\n",
    "print(\"\\n\")\n",
    "print(pca.explained_variance_ratio_ ) # 返回各个成分各自的方差百分比"
   ]
  },
  {
   "cell_type": "markdown",
   "metadata": {},
   "source": [
    "## 4.3.2 数值规约"
   ]
  },
  {
   "cell_type": "code",
   "execution_count": null,
   "metadata": {},
   "outputs": [],
   "source": []
  }
 ],
 "metadata": {
  "kernelspec": {
   "display_name": "Python 3",
   "language": "python",
   "name": "python3"
  },
  "language_info": {
   "codemirror_mode": {
    "name": "ipython",
    "version": 3
   },
   "file_extension": ".py",
   "mimetype": "text/x-python",
   "name": "python",
   "nbconvert_exporter": "python",
   "pygments_lexer": "ipython3",
   "version": "3.8.3"
  }
 },
 "nbformat": 4,
 "nbformat_minor": 4
}
