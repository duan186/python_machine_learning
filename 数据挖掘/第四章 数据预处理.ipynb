{
 "cells": [
  {
   "cell_type": "markdown",
   "metadata": {},
   "source": [
    "在数据挖掘中，海量的数据有不合理的数据会影响到数据挖掘的执行效率，产生偏差，因此需要数据清洗并数据集成、转换、规约"
   ]
  },
  {
   "cell_type": "markdown",
   "metadata": {},
   "source": [
    "一方面提高数据质量，另一方面是让数据更好地适应特定的数据挖掘技术或工具"
   ]
  },
  {
   "cell_type": "markdown",
   "metadata": {},
   "source": [
    "# 4.1 数据清洗"
   ]
  },
  {
   "cell_type": "markdown",
   "metadata": {},
   "source": [
    "数据清洗主要是删除数据集中无关数据、重复数据、平滑噪音数据和处理缺失值、异常值"
   ]
  },
  {
   "cell_type": "markdown",
   "metadata": {},
   "source": [
    "## 4.1.1 缺失值处理"
   ]
  },
  {
   "cell_type": "markdown",
   "metadata": {},
   "source": [
    "删除、数据插补和不处理"
   ]
  },
  {
   "cell_type": "markdown",
   "metadata": {},
   "source": [
    "均值、中位数、众数插补  \n",
    "使用固定值  \n",
    "最近邻插补  \n",
    "回归方法  \n",
    "插值法  "
   ]
  },
  {
   "cell_type": "code",
   "execution_count": 2,
   "metadata": {},
   "outputs": [
    {
     "name": "stdout",
     "output_type": "stream",
     "text": [
      "                       0       1\n",
      "0                     日期      销量\n",
      "1    2015-03-01 00:00:00      51\n",
      "2    2015-02-28 00:00:00  2618.2\n",
      "3    2015-02-27 00:00:00  2608.4\n",
      "4    2015-02-26 00:00:00  2651.9\n",
      "..                   ...     ...\n",
      "197  2014-08-06 00:00:00  2915.8\n",
      "198  2014-08-05 00:00:00  2618.1\n",
      "199  2014-08-04 00:00:00    2993\n",
      "200  2014-08-03 00:00:00  3436.4\n",
      "201  2014-08-02 00:00:00  2261.7\n",
      "\n",
      "[202 rows x 2 columns]\n"
     ]
    }
   ],
   "source": [
    "import pandas as pd\n",
    "from scipy.interpolate import lagrange\n",
    "inputfile = '/Users/wangduan/python_machine_learning/数据挖掘/chapter3/data/catering_sale.xls'\n",
    "data = pd.read_excel(inputfile, header=None)\n",
    "\n",
    "\n",
    "def ployinterp_column(s, n, k=5):\n",
    "    y = s[list(range(n-k, n)) + list(range(n+1, n+1+k))] # 取数\n",
    "    y = y[y.notnull()]\n",
    "    return lagrange(y.index,list(y))(n)  # 差值并返回差值结果\n",
    "# 逐个元素判断是否需要插值\n",
    "\n",
    "\n",
    "for i in data.columns:\n",
    "    for j in range(len(data)):\n",
    "        if (data[i].isnull())[j]:\n",
    "            data[i][j] = ployinterp_column(data[i], j)\n",
    "print(data)"
   ]
  },
  {
   "cell_type": "markdown",
   "metadata": {},
   "source": [
    "## 4.1.2 异常值处理"
   ]
  },
  {
   "cell_type": "markdown",
   "metadata": {},
   "source": [
    "删除含有异常值的数据  \n",
    "是为缺失值  \n",
    "平均值修正  \n",
    "不处理"
   ]
  },
  {
   "cell_type": "markdown",
   "metadata": {},
   "source": [
    "# 4.2 数据集成"
   ]
  },
  {
   "cell_type": "markdown",
   "metadata": {},
   "source": [
    "## 4.2.1 实体识别"
   ]
  },
  {
   "cell_type": "markdown",
   "metadata": {},
   "source": [
    "从不同数据源识别现实世界的实体"
   ]
  },
  {
   "cell_type": "markdown",
   "metadata": {},
   "source": [
    "## 4.2.2 冗余属性识别"
   ]
  },
  {
   "cell_type": "markdown",
   "metadata": {},
   "source": [
    "## 4.2.3 数据变换"
   ]
  },
  {
   "cell_type": "markdown",
   "metadata": {},
   "source": [
    "1.简单的函数变换  \n",
    "2.规范化   \n",
    "最小最大规范化  \n",
    "零-均值规范化  \n",
    "小数定标规范化  \n",
    "3.连续属性离散化  \n",
    "4.属性构成  \n",
    "5.小波变换"
   ]
  },
  {
   "cell_type": "code",
   "execution_count": 9,
   "metadata": {},
   "outputs": [
    {
     "ename": "SyntaxError",
     "evalue": "invalid character in identifier (<ipython-input-9-bb7b2c308658>, line 3)",
     "output_type": "error",
     "traceback": [
      "\u001b[0;36m  File \u001b[0;32m\"<ipython-input-9-bb7b2c308658>\"\u001b[0;36m, line \u001b[0;32m3\u001b[0m\n\u001b[0;31m    datafile = ‘chapter4/data/normalization_data‘  # 参数初始化\u001b[0m\n\u001b[0m                       ^\u001b[0m\n\u001b[0;31mSyntaxError\u001b[0m\u001b[0;31m:\u001b[0m invalid character in identifier\n"
     ]
    }
   ],
   "source": [
    "import pandas as pd\n",
    "import numpy as np\n",
    "datafile = ‘/Users/wangduan/python_machine_learning/数据挖掘/chapter4/data/normalization_data.xls’  # 参数初始化\n",
    "data = pd.read_excel(datafile, header = None)  # 读取数据\n",
    "print(data)\n",
    " # 最小-最大规范化\n",
    "print（(data - data.min()) / (data.max() - data.min())）\n",
    "# 零-均值规范化\n",
    "(data - data.mean()) / data.std()  \n",
    "# 小数定标规范化\n",
    "data / 10 ** np.ceil(np.log10(data.abs().max()))  \n"
   ]
  },
  {
   "cell_type": "code",
   "execution_count": null,
   "metadata": {},
   "outputs": [],
   "source": []
  }
 ],
 "metadata": {
  "kernelspec": {
   "display_name": "Python 3",
   "language": "python",
   "name": "python3"
  },
  "language_info": {
   "codemirror_mode": {
    "name": "ipython",
    "version": 3
   },
   "file_extension": ".py",
   "mimetype": "text/x-python",
   "name": "python",
   "nbconvert_exporter": "python",
   "pygments_lexer": "ipython3",
   "version": "3.8.3"
  }
 },
 "nbformat": 4,
 "nbformat_minor": 4
}
