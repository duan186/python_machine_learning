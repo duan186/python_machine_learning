{
 "cells": [
  {
   "cell_type": "markdown",
   "metadata": {},
   "source": [
    "# 第三章 数据探索"
   ]
  },
  {
   "cell_type": "markdown",
   "metadata": {},
   "source": [
    "数据探索是在具有较为良好的样本后，对样本数据进行解释性的分析工作，它是数据挖掘较为前期的部分。数据探索并不需要应用过多的模型算法，相反，它更偏重于定义数据的本质、描述数据的形态特征并解释数据的相关性。通过数据探索的结果，我们能够更好的开展后续的数据挖掘与数据建模工作。"
   ]
  },
  {
   "cell_type": "markdown",
   "metadata": {},
   "source": [
    "通过检验数据集的质量，绘制图表，计算某些特征量等手段，对样本数据集的结构和规律进行分析的过程"
   ]
  },
  {
   "cell_type": "markdown",
   "metadata": {},
   "source": [
    "数据质量分析和数据特征分析"
   ]
  },
  {
   "cell_type": "markdown",
   "metadata": {},
   "source": [
    "## 3.1 数据的质量分析"
   ]
  },
  {
   "cell_type": "markdown",
   "metadata": {},
   "source": [
    "检查原始数据是否有脏数据"
   ]
  },
  {
   "cell_type": "markdown",
   "metadata": {},
   "source": [
    "脏数据：不符合要求，以及不能直接进行相应分析的数据\n",
    "<br>eg:缺失值\n",
    "异常值\n",
    "不一致的值\n",
    "重复数据及含有特殊符号的数据"
   ]
  },
  {
   "cell_type": "markdown",
   "metadata": {},
   "source": [
    "### 3.1.1 缺失值的分析"
   ]
  },
  {
   "cell_type": "markdown",
   "metadata": {},
   "source": [
    "产生原因：有些信息无法获取，获取信息的代价太大  /       信息遗漏     /属性值不存在"
   ]
  },
  {
   "cell_type": "markdown",
   "metadata": {},
   "source": [
    "对异常值做简单统计分析：统计缺失值的个数，统计每个变量的未缺失数，统计变量的缺失数及缺失率"
   ]
  },
  {
   "cell_type": "code",
   "execution_count": 1,
   "metadata": {
    "scrolled": true
   },
   "outputs": [
    {
     "name": "stdout",
     "output_type": "stream",
     "text": [
      "                销量\n",
      "count   200.000000\n",
      "mean   2755.214700\n",
      "std     751.029772\n",
      "min      22.000000\n",
      "25%    2451.975000\n",
      "50%    2655.850000\n",
      "75%    3026.125000\n",
      "max    9106.440000\n"
     ]
    }
   ],
   "source": [
    "import pandas as pd\n",
    "catering_sale='data/catering_sale.xls'\n",
    "data=pd.read_excel(catering_sale,index_col=u'日期')#返回值DataFrame or dict of DataFrames\n",
    "print(data.describe())"
   ]
  },
  {
   "cell_type": "code",
   "execution_count": 4,
   "metadata": {},
   "outputs": [
    {
     "name": "stderr",
     "output_type": "stream",
     "text": [
      "findfont: Font family ['sans-serif'] not found. Falling back to DejaVu Sans.\n",
      "/Users/wangduan/opt/anaconda3/lib/python3.8/site-packages/matplotlib/backends/backend_agg.py:214: RuntimeWarning: Glyph 38144 missing from current font.\n",
      "  font.set_text(s, 0.0, flags=flags)\n",
      "/Users/wangduan/opt/anaconda3/lib/python3.8/site-packages/matplotlib/backends/backend_agg.py:214: RuntimeWarning: Glyph 37327 missing from current font.\n",
      "  font.set_text(s, 0.0, flags=flags)\n",
      "/Users/wangduan/opt/anaconda3/lib/python3.8/site-packages/matplotlib/backends/backend_agg.py:183: RuntimeWarning: Glyph 38144 missing from current font.\n",
      "  font.set_text(s, 0, flags=flags)\n",
      "/Users/wangduan/opt/anaconda3/lib/python3.8/site-packages/matplotlib/backends/backend_agg.py:183: RuntimeWarning: Glyph 37327 missing from current font.\n",
      "  font.set_text(s, 0, flags=flags)\n"
     ]
    },
    {
     "data": {
      "image/png": "[encoded data removed]",
      "text/plain": [
       "<Figure size 432x288 with 1 Axes>"
      ]
     },
     "metadata": {
      "needs_background": "light"
     },
     "output_type": "display_data"
    }
   ],
   "source": [
    "#-*- coding: utf-8 -*-\n",
    "import pandas as pd\n",
    "\n",
    "catering_sale = 'data/catering_sale.xls' #餐饮数据\n",
    "data = pd.read_excel(catering_sale, index_col = u'日期') #读取数据，指定“日期”列为索引列\n",
    "\n",
    "import matplotlib.pyplot as plt #导入图像库\n",
    "plt.rcParams['font.sans-serif'] = ['SimHei'] #用来正常显示中文标签\n",
    "plt.rcParams['axes.unicode_minus'] = False #用来正常显示负号\n",
    "\n",
    "plt.figure() #建立图像\n",
    "p = data.boxplot(return_type='dict') #画箱线图，直接使用DataFrame的方法\n",
    "x = p['fliers'][0].get_xdata() # 'flies'即为异常值的标签\n",
    "y = p['fliers'][0].get_ydata()\n",
    "y.sort() #从小到大排序，该方法直接改变原对象\n",
    "\n",
    "#用annotate添加注释\n",
    "#其中有些相近的点，注解会出现重叠，难以看清，需要一些技巧来控制。\n",
    "#以下参数都是经过调试的，需要具体问题具体调试。\n",
    "for i in range(len(x)): \n",
    "  if i>0:\n",
    "    plt.annotate(y[i], xy = (x[i],y[i]), xytext=(x[i]+0.05 -0.8/(y[i]-y[i-1]),y[i]))\n",
    "  else:\n",
    "    plt.annotate(y[i], xy = (x[i],y[i]), xytext=(x[i]+0.08,y[i]))\n",
    "plt.show() #展示箱线图\n"
   ]
  },
  {
   "cell_type": "markdown",
   "metadata": {},
   "source": [
    "## 3.2 数据特征分析"
   ]
  },
  {
   "cell_type": "markdown",
   "metadata": {},
   "source": [
    "对数据进行质量分析后，接下来就是对数据进行特征分析。一般可利用绘制图表，计算某种特征量等手段进行数据的特征分析"
   ]
  },
  {
   "cell_type": "markdown",
   "metadata": {},
   "source": [
    "### 3.2.1 分布分析"
   ]
  },
  {
   "cell_type": "markdown",
   "metadata": {},
   "source": [
    "<p>\n",
    "    对于定量变量而言，选择“组数”和“组宽”是做频率分布分析时最主要的问题，一般按照以下步骤进行：\n",
    "    <br>求极差\n",
    "    <br>决定组距与组数\n",
    "    <br>决定分点\n",
    "    <br>列出频率分布表\n",
    "    <br>绘制频率分布直方图\n",
    "<p>\n",
    "    遵循的主要原则如下:\n",
    "    <br>各组之间必须是相互排斥的。\n",
    "    <br>各组必须将所有的数据包含在内\n",
    "    <br>各组的组宽最好相等\n",
    "<p>\n",
    "    <br> （1） 求极差\n",
    "    <br>极差 = 最大值 - 最小值 = 3960 - 45 = 3915\n",
    "    <br>（2）分组\n",
    "    <br>这里根据业务数据的含义，可取组距为500.\n",
    "    <br>组数 = 极差 / 组距 = 3915 / 500 = 7.83 => 8\n",
    "    <br>（3）决定分点\n",
    "    <br>（4）绘制频率分布直方图\n",
    "    <p>根据分组区间得到如下表所示的频率分布表。其中，第1列将数据所在的范围分成若干组段，第1个组段要包括最小值，最后一个组段要包括最大值。习惯上各组设为左闭右开的半开区间，\n"
   ]
  },
  {
   "cell_type": "markdown",
   "metadata": {},
   "source": [
    "### 3.2.2 对比分析"
   ]
  },
  {
   "cell_type": "markdown",
   "metadata": {},
   "source": [
    "<p>\n",
    "    对比分析是指把两个相互联系的指标进行比较，从数量上展示和说明研究对象规模的大小，水平的高低，速度的快慢，以及各种关系是否协调。特别适用于指标间的横纵向比较、时间序列的比较分析。在对比分析中，选择合适的对比标准是十分关键的步骤，只有选择合适，才能做出客观的评价，选择不合适，评价可能得出错误的结论。\n",
    "对比分析主要有以下两种形式：\n",
    "    <p>（1）绝对数比较\n",
    "        绝对数比较是利用绝对数进行对比，从而寻找差异的一种方法。\n",
    "    <p>（2）相对数比较\n",
    "        相对数比较是由两个有联系的指标对比计算的，用以反映客观现象之间数量联系程度的综合指标，其数值表现为相对数。由于研究目的和对比基础不同，相对数可以分为以下几种。\n",
    "    <p>\n",
    "\n",
    "        结构相对数：将同一总体内的部分数值与全部数值对比求得比重，用以说明事物的性质、结构或质量。如居民食品支出额占消费支出总额比重、产品合格率等。\n",
    "\n",
    "        比例相对数：将同一总体内不同部分的数值进行对比，表明总体内各部分的比例关系。如人口性别比例、投资与消费比例等。\n",
    "\n",
    "        比较相对数：将同一时期两个性质相同的指标数值进行对比，说明同类现象在不同条件下的数量对比关系。如不同地区商品价格对比，不同行业、不同企业间某项指标对比等。\n",
    "\n",
    "        强度相对数：将两个性质不同但有一定联系的总量指标进行对比，用以说明现象的强度、密度和普通程度。如人均国内生产总值用“元/人”表示，人口密度用“人/平方公里”表示，也有用百分数或千分数表示的，如人口出生率用‰表示。\n",
    "    \n",
    "        计划完成程度相对数：是某一时期实际完成数与计划数的对比，用以说明计划完成程度。\n",
    "    \n",
    "        动态相对数：将同一现象在不同时期的指标数值进行对比，用以说明发展发向和变化的速度。如发展速度、增长速度。"
   ]
  },
  {
   "cell_type": "markdown",
   "metadata": {},
   "source": [
    "### 3.2.3 统计量分析\n"
   ]
  },
  {
   "cell_type": "markdown",
   "metadata": {},
   "source": [
    "用统计指标对定量数据进行描述，常从集中趋势和离中趋势两个方面进行分析"
   ]
  },
  {
   "cell_type": "markdown",
   "metadata": {},
   "source": [
    "<p>\n",
    "    <br>平均水平指标：对个体集中趋势的度量\n",
    "    <br>使用最广的是均值和中位数\n",
    "    <br>水平的度量：四分位数，标准差\n",
    "<p>"
   ]
  },
  {
   "cell_type": "markdown",
   "metadata": {},
   "source": [
    "<p>\n",
    "    <br>集中趋势度量：均值、中位数、众数\n",
    "    <br>离中趋势度量：极差、标准差、变异系数"
   ]
  },
  {
   "cell_type": "code",
   "execution_count": 3,
   "metadata": {},
   "outputs": [
    {
     "name": "stdout",
     "output_type": "stream",
     "text": [
      "                销量\n",
      "count   195.000000\n",
      "mean   2744.595385\n",
      "std     424.739407\n",
      "min     865.000000\n",
      "25%    2460.600000\n",
      "50%    2655.900000\n",
      "75%    3023.200000\n",
      "max    4065.200000\n",
      "range  3200.200000\n",
      "var       0.154755\n",
      "dis     562.600000\n"
     ]
    }
   ],
   "source": [
    "# 代码3-6 餐饮销量数据统计量分析\n",
    "\n",
    "# 餐饮销量数据统计量分析\n",
    "import pandas as pd\n",
    "\n",
    "catering_sale = 'data/catering_sale.xls'  # 餐饮数据\n",
    "data = pd.read_excel(catering_sale, index_col = u'日期')  # 读取数据，指定“日期”列为索引列\n",
    "data = data[(data[u'销量'] > 400)&(data[u'销量'] < 5000)]  # 过滤异常数据\n",
    "statistics = data.describe()  # 保存基本统计量\n",
    "\n",
    "statistics.loc['range'] = statistics.loc['max']-statistics.loc['min']  # 极差\n",
    "statistics.loc['var'] = statistics.loc['std']/statistics.loc['mean']  # 变异系数\n",
    "statistics.loc['dis'] = statistics.loc['75%']-statistics.loc['25%']  # 四分位数间距\n",
    "\n",
    "print(statistics)"
   ]
  },
  {
   "cell_type": "markdown",
   "metadata": {},
   "source": [
    "### 3.2.4 周期性分析"
   ]
  },
  {
   "cell_type": "code",
   "execution_count": 9,
   "metadata": {},
   "outputs": [
    {
     "name": "stderr",
     "output_type": "stream",
     "text": [
      "/Users/wangduan/opt/anaconda3/lib/python3.8/site-packages/matplotlib/backends/backend_agg.py:214: RuntimeWarning: Glyph 27491 missing from current font.\n",
      "  font.set_text(s, 0.0, flags=flags)\n",
      "/Users/wangduan/opt/anaconda3/lib/python3.8/site-packages/matplotlib/backends/backend_agg.py:214: RuntimeWarning: Glyph 24120 missing from current font.\n",
      "  font.set_text(s, 0.0, flags=flags)\n",
      "/Users/wangduan/opt/anaconda3/lib/python3.8/site-packages/matplotlib/backends/backend_agg.py:214: RuntimeWarning: Glyph 29992 missing from current font.\n",
      "  font.set_text(s, 0.0, flags=flags)\n",
      "/Users/wangduan/opt/anaconda3/lib/python3.8/site-packages/matplotlib/backends/backend_agg.py:214: RuntimeWarning: Glyph 25143 missing from current font.\n",
      "  font.set_text(s, 0.0, flags=flags)\n",
      "/Users/wangduan/opt/anaconda3/lib/python3.8/site-packages/matplotlib/backends/backend_agg.py:214: RuntimeWarning: Glyph 30005 missing from current font.\n",
      "  font.set_text(s, 0.0, flags=flags)\n",
      "/Users/wangduan/opt/anaconda3/lib/python3.8/site-packages/matplotlib/backends/backend_agg.py:214: RuntimeWarning: Glyph 37327 missing from current font.\n",
      "  font.set_text(s, 0.0, flags=flags)\n",
      "/Users/wangduan/opt/anaconda3/lib/python3.8/site-packages/matplotlib/backends/backend_agg.py:214: RuntimeWarning: Glyph 36235 missing from current font.\n",
      "  font.set_text(s, 0.0, flags=flags)\n",
      "/Users/wangduan/opt/anaconda3/lib/python3.8/site-packages/matplotlib/backends/backend_agg.py:214: RuntimeWarning: Glyph 21183 missing from current font.\n",
      "  font.set_text(s, 0.0, flags=flags)\n",
      "/Users/wangduan/opt/anaconda3/lib/python3.8/site-packages/matplotlib/backends/backend_agg.py:214: RuntimeWarning: Glyph 26085 missing from current font.\n",
      "  font.set_text(s, 0.0, flags=flags)\n",
      "/Users/wangduan/opt/anaconda3/lib/python3.8/site-packages/matplotlib/backends/backend_agg.py:214: RuntimeWarning: Glyph 26399 missing from current font.\n",
      "  font.set_text(s, 0.0, flags=flags)\n",
      "/Users/wangduan/opt/anaconda3/lib/python3.8/site-packages/matplotlib/backends/backend_agg.py:214: RuntimeWarning: Glyph 27599 missing from current font.\n",
      "  font.set_text(s, 0.0, flags=flags)\n",
      "/Users/wangduan/opt/anaconda3/lib/python3.8/site-packages/matplotlib/backends/backend_agg.py:183: RuntimeWarning: Glyph 26085 missing from current font.\n",
      "  font.set_text(s, 0, flags=flags)\n",
      "/Users/wangduan/opt/anaconda3/lib/python3.8/site-packages/matplotlib/backends/backend_agg.py:183: RuntimeWarning: Glyph 26399 missing from current font.\n",
      "  font.set_text(s, 0, flags=flags)\n",
      "/Users/wangduan/opt/anaconda3/lib/python3.8/site-packages/matplotlib/backends/backend_agg.py:183: RuntimeWarning: Glyph 27599 missing from current font.\n",
      "  font.set_text(s, 0, flags=flags)\n",
      "/Users/wangduan/opt/anaconda3/lib/python3.8/site-packages/matplotlib/backends/backend_agg.py:183: RuntimeWarning: Glyph 30005 missing from current font.\n",
      "  font.set_text(s, 0, flags=flags)\n",
      "/Users/wangduan/opt/anaconda3/lib/python3.8/site-packages/matplotlib/backends/backend_agg.py:183: RuntimeWarning: Glyph 37327 missing from current font.\n",
      "  font.set_text(s, 0, flags=flags)\n",
      "/Users/wangduan/opt/anaconda3/lib/python3.8/site-packages/matplotlib/backends/backend_agg.py:183: RuntimeWarning: Glyph 27491 missing from current font.\n",
      "  font.set_text(s, 0, flags=flags)\n",
      "/Users/wangduan/opt/anaconda3/lib/python3.8/site-packages/matplotlib/backends/backend_agg.py:183: RuntimeWarning: Glyph 24120 missing from current font.\n",
      "  font.set_text(s, 0, flags=flags)\n",
      "/Users/wangduan/opt/anaconda3/lib/python3.8/site-packages/matplotlib/backends/backend_agg.py:183: RuntimeWarning: Glyph 29992 missing from current font.\n",
      "  font.set_text(s, 0, flags=flags)\n",
      "/Users/wangduan/opt/anaconda3/lib/python3.8/site-packages/matplotlib/backends/backend_agg.py:183: RuntimeWarning: Glyph 25143 missing from current font.\n",
      "  font.set_text(s, 0, flags=flags)\n",
      "/Users/wangduan/opt/anaconda3/lib/python3.8/site-packages/matplotlib/backends/backend_agg.py:183: RuntimeWarning: Glyph 36235 missing from current font.\n",
      "  font.set_text(s, 0, flags=flags)\n",
      "/Users/wangduan/opt/anaconda3/lib/python3.8/site-packages/matplotlib/backends/backend_agg.py:183: RuntimeWarning: Glyph 21183 missing from current font.\n",
      "  font.set_text(s, 0, flags=flags)\n"
     ]
    },
    {
     "data": {
      "image/png": "[encoded data removed]",
      "text/plain": [
       "<Figure size 576x288 with 1 Axes>"
      ]
     },
     "metadata": {
      "needs_background": "light"
     },
     "output_type": "display_data"
    }
   ],
   "source": [
    "# 代码3-7 某单位日用电量预测分析\n",
    "\n",
    "import pandas as pd\n",
    "import matplotlib.pyplot as plt\n",
    "\n",
    "df_normal = pd.read_csv(\"data/user.csv\")\n",
    "plt.figure(figsize=(8,4))\n",
    "plt.plot(df_normal[\"Date\"],df_normal[\"Eletricity\"])\n",
    "plt.xlabel(\"日期\")\n",
    "plt.ylabel(\"每日电量\")\n",
    "# 设置x轴刻度间隔\n",
    "x_major_locator = plt.MultipleLocator(7)\n",
    "ax = plt.gca()\n",
    "ax.xaxis.set_major_locator(x_major_locator)\n",
    "plt.title(\"正常用户电量趋势\")\n",
    "plt.rcParams['font.sans-serif'] = ['SimHei']  # 用来正常显示中文标签\n",
    "plt.show()  # 展示图片\n",
    "\n"
   ]
  },
  {
   "cell_type": "code",
   "execution_count": 10,
   "metadata": {},
   "outputs": [
    {
     "name": "stderr",
     "output_type": "stream",
     "text": [
      "/Users/wangduan/opt/anaconda3/lib/python3.8/site-packages/matplotlib/backends/backend_agg.py:214: RuntimeWarning: Glyph 31363 missing from current font.\n",
      "  font.set_text(s, 0.0, flags=flags)\n",
      "/Users/wangduan/opt/anaconda3/lib/python3.8/site-packages/matplotlib/backends/backend_agg.py:214: RuntimeWarning: Glyph 30005 missing from current font.\n",
      "  font.set_text(s, 0.0, flags=flags)\n",
      "/Users/wangduan/opt/anaconda3/lib/python3.8/site-packages/matplotlib/backends/backend_agg.py:214: RuntimeWarning: Glyph 29992 missing from current font.\n",
      "  font.set_text(s, 0.0, flags=flags)\n",
      "/Users/wangduan/opt/anaconda3/lib/python3.8/site-packages/matplotlib/backends/backend_agg.py:214: RuntimeWarning: Glyph 25143 missing from current font.\n",
      "  font.set_text(s, 0.0, flags=flags)\n",
      "/Users/wangduan/opt/anaconda3/lib/python3.8/site-packages/matplotlib/backends/backend_agg.py:214: RuntimeWarning: Glyph 37327 missing from current font.\n",
      "  font.set_text(s, 0.0, flags=flags)\n",
      "/Users/wangduan/opt/anaconda3/lib/python3.8/site-packages/matplotlib/backends/backend_agg.py:214: RuntimeWarning: Glyph 36235 missing from current font.\n",
      "  font.set_text(s, 0.0, flags=flags)\n",
      "/Users/wangduan/opt/anaconda3/lib/python3.8/site-packages/matplotlib/backends/backend_agg.py:214: RuntimeWarning: Glyph 21183 missing from current font.\n",
      "  font.set_text(s, 0.0, flags=flags)\n",
      "/Users/wangduan/opt/anaconda3/lib/python3.8/site-packages/matplotlib/backends/backend_agg.py:214: RuntimeWarning: Glyph 26085 missing from current font.\n",
      "  font.set_text(s, 0.0, flags=flags)\n",
      "/Users/wangduan/opt/anaconda3/lib/python3.8/site-packages/matplotlib/backends/backend_agg.py:214: RuntimeWarning: Glyph 26399 missing from current font.\n",
      "  font.set_text(s, 0.0, flags=flags)\n",
      "/Users/wangduan/opt/anaconda3/lib/python3.8/site-packages/matplotlib/backends/backend_agg.py:183: RuntimeWarning: Glyph 26085 missing from current font.\n",
      "  font.set_text(s, 0, flags=flags)\n",
      "/Users/wangduan/opt/anaconda3/lib/python3.8/site-packages/matplotlib/backends/backend_agg.py:183: RuntimeWarning: Glyph 26399 missing from current font.\n",
      "  font.set_text(s, 0, flags=flags)\n",
      "/Users/wangduan/opt/anaconda3/lib/python3.8/site-packages/matplotlib/backends/backend_agg.py:183: RuntimeWarning: Glyph 31363 missing from current font.\n",
      "  font.set_text(s, 0, flags=flags)\n",
      "/Users/wangduan/opt/anaconda3/lib/python3.8/site-packages/matplotlib/backends/backend_agg.py:183: RuntimeWarning: Glyph 30005 missing from current font.\n",
      "  font.set_text(s, 0, flags=flags)\n",
      "/Users/wangduan/opt/anaconda3/lib/python3.8/site-packages/matplotlib/backends/backend_agg.py:183: RuntimeWarning: Glyph 29992 missing from current font.\n",
      "  font.set_text(s, 0, flags=flags)\n",
      "/Users/wangduan/opt/anaconda3/lib/python3.8/site-packages/matplotlib/backends/backend_agg.py:183: RuntimeWarning: Glyph 25143 missing from current font.\n",
      "  font.set_text(s, 0, flags=flags)\n",
      "/Users/wangduan/opt/anaconda3/lib/python3.8/site-packages/matplotlib/backends/backend_agg.py:183: RuntimeWarning: Glyph 37327 missing from current font.\n",
      "  font.set_text(s, 0, flags=flags)\n",
      "/Users/wangduan/opt/anaconda3/lib/python3.8/site-packages/matplotlib/backends/backend_agg.py:183: RuntimeWarning: Glyph 36235 missing from current font.\n",
      "  font.set_text(s, 0, flags=flags)\n",
      "/Users/wangduan/opt/anaconda3/lib/python3.8/site-packages/matplotlib/backends/backend_agg.py:183: RuntimeWarning: Glyph 21183 missing from current font.\n",
      "  font.set_text(s, 0, flags=flags)\n"
     ]
    },
    {
     "data": {
      "image/png": "[encoded data removed]",
      "text/plain": [
       "<Figure size 720x648 with 1 Axes>"
      ]
     },
     "metadata": {
      "needs_background": "light"
     },
     "output_type": "display_data"
    }
   ],
   "source": [
    "\n",
    "# 窃电用户用电趋势分析\n",
    "df_steal = pd.read_csv(\"data/Steal user.csv\")\n",
    "plt.figure(figsize=(10, 9))\n",
    "plt.plot(df_steal[\"Date\"],df_steal[\"Eletricity\"])\n",
    "plt.xlabel(\"日期\")\n",
    "plt.ylabel(\"日期\")\n",
    "# 设置x轴刻度间隔\n",
    "x_major_locator = plt.MultipleLocator(7)\n",
    "ax = plt.gca()\n",
    "ax.xaxis.set_major_locator(x_major_locator)\n",
    "plt.title(\"窃电用户电量趋势\")\n",
    "plt.rcParams['font.sans-serif'] = ['SimHei']  # 用来正常显示中文标签\n",
    "plt.show()  # 展示图片"
   ]
  },
  {
   "cell_type": "markdown",
   "metadata": {},
   "source": [
    "### 3.2.5 贡献度分析"
   ]
  },
  {
   "cell_type": "markdown",
   "metadata": {},
   "source": [
    "帕累托法则又称为2-8定律"
   ]
  },
  {
   "cell_type": "code",
   "execution_count": 12,
   "metadata": {},
   "outputs": [
    {
     "name": "stderr",
     "output_type": "stream",
     "text": [
      "/Users/wangduan/opt/anaconda3/lib/python3.8/site-packages/matplotlib/backends/backend_agg.py:214: RuntimeWarning: Glyph 33756 missing from current font.\n",
      "  font.set_text(s, 0.0, flags=flags)\n",
      "/Users/wangduan/opt/anaconda3/lib/python3.8/site-packages/matplotlib/backends/backend_agg.py:214: RuntimeWarning: Glyph 21697 missing from current font.\n",
      "  font.set_text(s, 0.0, flags=flags)\n",
      "/Users/wangduan/opt/anaconda3/lib/python3.8/site-packages/matplotlib/backends/backend_agg.py:214: RuntimeWarning: Glyph 21517 missing from current font.\n",
      "  font.set_text(s, 0.0, flags=flags)\n",
      "/Users/wangduan/opt/anaconda3/lib/python3.8/site-packages/matplotlib/backends/backend_agg.py:214: RuntimeWarning: Glyph 30408 missing from current font.\n",
      "  font.set_text(s, 0.0, flags=flags)\n",
      "/Users/wangduan/opt/anaconda3/lib/python3.8/site-packages/matplotlib/backends/backend_agg.py:214: RuntimeWarning: Glyph 21033 missing from current font.\n",
      "  font.set_text(s, 0.0, flags=flags)\n",
      "/Users/wangduan/opt/anaconda3/lib/python3.8/site-packages/matplotlib/backends/backend_agg.py:214: RuntimeWarning: Glyph 65288 missing from current font.\n",
      "  font.set_text(s, 0.0, flags=flags)\n",
      "/Users/wangduan/opt/anaconda3/lib/python3.8/site-packages/matplotlib/backends/backend_agg.py:214: RuntimeWarning: Glyph 20803 missing from current font.\n",
      "  font.set_text(s, 0.0, flags=flags)\n",
      "/Users/wangduan/opt/anaconda3/lib/python3.8/site-packages/matplotlib/backends/backend_agg.py:214: RuntimeWarning: Glyph 65289 missing from current font.\n",
      "  font.set_text(s, 0.0, flags=flags)\n",
      "/Users/wangduan/opt/anaconda3/lib/python3.8/site-packages/matplotlib/backends/backend_agg.py:214: RuntimeWarning: Glyph 27604 missing from current font.\n",
      "  font.set_text(s, 0.0, flags=flags)\n",
      "/Users/wangduan/opt/anaconda3/lib/python3.8/site-packages/matplotlib/backends/backend_agg.py:214: RuntimeWarning: Glyph 20363 missing from current font.\n",
      "  font.set_text(s, 0.0, flags=flags)\n",
      "/Users/wangduan/opt/anaconda3/lib/python3.8/site-packages/matplotlib/backends/backend_agg.py:183: RuntimeWarning: Glyph 33756 missing from current font.\n",
      "  font.set_text(s, 0, flags=flags)\n",
      "/Users/wangduan/opt/anaconda3/lib/python3.8/site-packages/matplotlib/backends/backend_agg.py:183: RuntimeWarning: Glyph 21697 missing from current font.\n",
      "  font.set_text(s, 0, flags=flags)\n",
      "/Users/wangduan/opt/anaconda3/lib/python3.8/site-packages/matplotlib/backends/backend_agg.py:183: RuntimeWarning: Glyph 21517 missing from current font.\n",
      "  font.set_text(s, 0, flags=flags)\n",
      "/Users/wangduan/opt/anaconda3/lib/python3.8/site-packages/matplotlib/backends/backend_agg.py:183: RuntimeWarning: Glyph 30408 missing from current font.\n",
      "  font.set_text(s, 0, flags=flags)\n",
      "/Users/wangduan/opt/anaconda3/lib/python3.8/site-packages/matplotlib/backends/backend_agg.py:183: RuntimeWarning: Glyph 21033 missing from current font.\n",
      "  font.set_text(s, 0, flags=flags)\n",
      "/Users/wangduan/opt/anaconda3/lib/python3.8/site-packages/matplotlib/backends/backend_agg.py:183: RuntimeWarning: Glyph 65288 missing from current font.\n",
      "  font.set_text(s, 0, flags=flags)\n",
      "/Users/wangduan/opt/anaconda3/lib/python3.8/site-packages/matplotlib/backends/backend_agg.py:183: RuntimeWarning: Glyph 20803 missing from current font.\n",
      "  font.set_text(s, 0, flags=flags)\n",
      "/Users/wangduan/opt/anaconda3/lib/python3.8/site-packages/matplotlib/backends/backend_agg.py:183: RuntimeWarning: Glyph 65289 missing from current font.\n",
      "  font.set_text(s, 0, flags=flags)\n",
      "/Users/wangduan/opt/anaconda3/lib/python3.8/site-packages/matplotlib/backends/backend_agg.py:183: RuntimeWarning: Glyph 27604 missing from current font.\n",
      "  font.set_text(s, 0, flags=flags)\n",
      "/Users/wangduan/opt/anaconda3/lib/python3.8/site-packages/matplotlib/backends/backend_agg.py:183: RuntimeWarning: Glyph 20363 missing from current font.\n",
      "  font.set_text(s, 0, flags=flags)\n"
     ]
    },
    {
     "data": {
      "image/png": "[encoded data removed]",
      "text/plain": [
       "<Figure size 432x288 with 2 Axes>"
      ]
     },
     "metadata": {
      "needs_background": "light"
     },
     "output_type": "display_data"
    }
   ],
   "source": [
    "# 代码3-8 菜品盈利帕累托图\n",
    "\n",
    "# 菜品盈利数据 帕累托图\n",
    "import pandas as pd\n",
    "\n",
    "# 初始化参数\n",
    "dish_profit = 'data/catering_dish_profit.xls'  # 餐饮菜品盈利数据\n",
    "data = pd.read_excel(dish_profit, index_col = '菜品名')\n",
    "data = data['盈利'].copy()\n",
    "data.sort_values(ascending = False)\n",
    "\n",
    "import matplotlib.pyplot as plt  # 导入图像库\n",
    "plt.rcParams['font.sans-serif'] = ['SimHei']  # 用来正常显示中文标签\n",
    "plt.rcParams['axes.unicode_minus'] = False  # 用来正常显示负号\n",
    "\n",
    "plt.figure()\n",
    "data.plot(kind='bar')\n",
    "plt.ylabel('盈利（元）')\n",
    "p = 1.0*data.cumsum()/data.sum()\n",
    "p.plot(color = 'r', secondary_y = True, style = '-o',linewidth = 2)\n",
    "plt.annotate(format(p[6], '.4%'), xy = (6, p[6]), xytext=(6*0.9, p[6]*0.9), arrowprops=dict(arrowstyle=\"->\", connectionstyle=\"arc3,rad=.2\"))  # 添加注释，即85%处的标记。这里包括了指定箭头样式。\n",
    "plt.ylabel('盈利（比例）')\n",
    "plt.show()"
   ]
  },
  {
   "cell_type": "markdown",
   "metadata": {},
   "source": [
    "### 3.2.6 相关性分析"
   ]
  },
  {
   "cell_type": "markdown",
   "metadata": {},
   "source": [
    "分析连续变量之间的线性相关程度"
   ]
  },
  {
   "cell_type": "markdown",
   "metadata": {},
   "source": [
    "相关性分析方法主要有：直接绘制散点图，绘制散点图矩阵，计算相关系数\n",
    "<br>相关系数\n",
    "<br>Pearson相关系数\n",
    "<br>spearman相关系数"
   ]
  },
  {
   "cell_type": "markdown",
   "metadata": {},
   "source": [
    "### 3.3 python主要数据探索函数"
   ]
  },
  {
   "cell_type": "markdown",
   "metadata": {},
   "source": [
    "### 3.3.1 基本统计特征函数"
   ]
  },
  {
   "cell_type": "code",
   "execution_count": 23,
   "metadata": {},
   "outputs": [
    {
     "name": "stdout",
     "output_type": "stream",
     "text": [
      "   0  1  2  3\n",
      "1  3  4  5  6\n",
      "2  2  3  4  5\n",
      "3  5  6  7  8\n",
      "4  3  4  6  7\n"
     ]
    }
   ],
   "source": [
    "from pandas import DataFrame\n",
    "A = [1,2,3,4]\n",
    "B = [[3,4,5,6],\n",
    "    [2,3,4,5],\n",
    "    [5,6,7,8],\n",
    "    [3,4,6,7]]\n",
    "C = DataFrame(B,A)\n",
    "print(C)"
   ]
  },
  {
   "cell_type": "code",
   "execution_count": null,
   "metadata": {},
   "outputs": [],
   "source": []
  }
 ],
 "metadata": {
  "kernelspec": {
   "display_name": "Python 3",
   "language": "python",
   "name": "python3"
  },
  "language_info": {
   "codemirror_mode": {
    "name": "ipython",
    "version": 3
   },
   "file_extension": ".py",
   "mimetype": "text/x-python",
   "name": "python",
   "nbconvert_exporter": "python",
   "pygments_lexer": "ipython3",
   "version": "3.8.3"
  }
 },
 "nbformat": 4,
 "nbformat_minor": 4
}
