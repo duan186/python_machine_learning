{
 "cells": [
  {
   "cell_type": "markdown",
   "metadata": {},
   "source": [
    "#  课程简介"
   ]
  },
  {
   "cell_type": "markdown",
   "metadata": {},
   "source": [
    "## 数据挖掘课程介绍"
   ]
  },
  {
   "cell_type": "markdown",
   "metadata": {},
   "source": [
    "从实践出发，结合大量数据挖掘工程案例，介绍数据挖掘过程中有关任务：数据探索，数据预处理，分类与预测，聚类分析，时序预测"
   ]
  },
  {
   "cell_type": "markdown",
   "metadata": {},
   "source": [
    "# 教学目标"
   ]
  },
  {
   "cell_type": "markdown",
   "metadata": {},
   "source": [
    "## 课程安排\n",
    "总学时 36+36\n",
    "## 参考书\n",
    "《python机器学习及实践》\n",
    "<br>《python数据编程基础》\n",
    "<br>《python爬虫大数据采集与挖掘》\n",
    "<br>《python核心编程》\n"
   ]
  },
  {
   "cell_type": "markdown",
   "metadata": {},
   "source": [
    "# 第一章"
   ]
  },
  {
   "cell_type": "markdown",
   "metadata": {},
   "source": [
    "## 1.1   某知名连锁餐饮企业的困惑\n",
    "国内某餐饮连锁有限公司（以下简称T餐饮）成立于1998年，主要经营粤菜，兼顾湘菜、川菜等综合菜系。至今已经发展成为在国内具有一定知名度、美誉度，多品牌、立体化的大型餐饮连锁企业。员工1000多人，拥有16家直营分店，经营总面积近13 000平方米，年营业额近亿元。其旗下各分店均坐落在繁华市区主干道，雅致的装潢，配之以精致的饰品、灯具、器物，出品精美，服务规范。\n",
    "近年来餐饮行业面临较为复杂的市场环境，与其他行业一样，餐饮企业都遇到了原材料成本升高、人力成本升高、房租成本升高等问题，这也使得整个行业的利润急剧下降。人力成本和房租成本的上升是必然趋势，如何在保持产品质量的同时提高企业效率，成为了T餐饮企业急需解决的问题。"
   ]
  },
  {
   "cell_type": "markdown",
   "metadata": {},
   "source": [
    "## 1.2 从餐饮服务到数据挖掘"
   ]
  },
  {
   "cell_type": "markdown",
   "metadata": {},
   "source": [
    "<p>\n",
    "    数据挖掘：从大量数据（包括文本）中挖掘出隐含的未知的对决策有潜在价值的关系，模式和趋势，并用这些知识的模型提供预测性决策支持的方法，工具和过程。\n",
    "\n",
    "    \n",
    "    "
   ]
  },
  {
   "cell_type": "markdown",
   "metadata": {},
   "source": [
    "### 分析能力：8个等级\n",
    "<p>\n",
    "    1.常规报表:发生了什么？什么时候发生的？\n",
    "    <br>\n",
    "    2.即席查询:有多少数量\n",
    "    <br>\n",
    "    3.多维分析：问题出在哪了？该如何寻找答案？\n",
    "    <br>\n",
    "    4.警报：有什么反应？现在该怎么做？\n",
    "    <br>\n",
    "    5.统计分析：为什么出现\n",
    "    <br>\n",
    "    6.预报：这些趋势继续下去会如何\n",
    "    <br>\n",
    "    7.预测性建模：接下来会发生什么事情\n",
    "    <br>\n",
    "    8.优化：可能出现最好的情况\n",
    "    "
   ]
  },
  {
   "cell_type": "markdown",
   "metadata": {},
   "source": [
    "## 1.3 数据挖掘的基本任务"
   ]
  },
  {
   "cell_type": "markdown",
   "metadata": {},
   "source": [
    "分类与预测、聚类分析、关联规则、时序模式、偏差检测、智能推荐等方法"
   ]
  },
  {
   "cell_type": "markdown",
   "metadata": {},
   "source": [
    "## 1.4 数据挖掘建模过程\n",
    "<p>\n",
    "目标\n",
    "    <br>\n",
    "    数据采样\n",
    "    <br>\n",
    "    数据探索\n",
    "    <br>\n",
    "    模式发现\n",
    "    <br>\n",
    "    预测模型\n",
    "    <br>\n",
    "    模型评价\n",
    "<p>\n"
   ]
  },
  {
   "cell_type": "markdown",
   "metadata": {},
   "source": [
    "### 1.4.1 定义挖掘目标\n",
    "针对需求，定义目标，系统完成后的效果"
   ]
  },
  {
   "cell_type": "markdown",
   "metadata": {},
   "source": [
    "### 1.4.2 数据取样\n",
    "抽取数据标准\n",
    "<br>相关性、可靠性、有效性"
   ]
  },
  {
   "cell_type": "markdown",
   "metadata": {},
   "source": [
    "#### 常见的方法\n",
    "1.随机抽样\n",
    "<br>2.等距抽样\n",
    "<br>3.分层抽样\n",
    "<br>4.按起始顺序抽样\n",
    "<br>5.分类抽样"
   ]
  },
  {
   "cell_type": "code",
   "execution_count": 2,
   "metadata": {},
   "outputs": [
    {
     "name": "stdout",
     "output_type": "stream",
     "text": [
      "1\n",
      "1\n",
      "2\n",
      "3\n",
      "5\n",
      "8\n"
     ]
    }
   ],
   "source": [
    "# Fibonacci series :裴波那切数列\n",
    "# 两个数据的综合确定下一个数\n",
    "a, b = 0, 1\n",
    "while b < 10:\n",
    "    print(b)\n",
    "    a, b = b ,a + b\n",
    "\n",
    "from numpy import *\n",
    "random.rand(4,4)\n",
    "\n",
    "randMat = mat(random.rand(4,4))\n",
    "\n",
    "invRandMat = randMat.I\n",
    "\n",
    "randMat*invRandMat"
   ]
  },
  {
   "cell_type": "markdown",
   "metadata": {},
   "source": [
    "### 1.4.3 数据探索\n",
    "<p>\n",
    "    找规律，趋势，问题，相关性\n",
    "    主要包括：异常化分析，缺失项分析"
   ]
  },
  {
   "cell_type": "markdown",
   "metadata": {},
   "source": [
    "### 1.4.4 数据预处理\n",
    "问题：数据采样过大、噪声、不一致\n",
    "方法：降维处理、去噪音"
   ]
  },
  {
   "cell_type": "markdown",
   "metadata": {},
   "source": [
    "### 1.4.5 数据建模"
   ]
  },
  {
   "cell_type": "markdown",
   "metadata": {},
   "source": [
    "### 1.4.6 模型评价\n",
    "<p>\n",
    "    若干种模型找最优的一个"
   ]
  },
  {
   "cell_type": "markdown",
   "metadata": {},
   "source": [
    "## python迭代器"
   ]
  },
  {
   "cell_type": "markdown",
   "metadata": {},
   "source": [
    "迭代器有两个方法：iter( ) next( )"
   ]
  },
  {
   "cell_type": "code",
   "execution_count": 12,
   "metadata": {},
   "outputs": [
    {
     "name": "stdout",
     "output_type": "stream",
     "text": [
      "1\n",
      "2\n"
     ]
    }
   ],
   "source": [
    "list = [1,2,3,4]\n",
    "it = iter(list)\n",
    "print(next(it))\n",
    "print(next(it))"
   ]
  },
  {
   "attachments": {},
   "cell_type": "markdown",
   "metadata": {},
   "source": [
    "## 多线程\n",
    "<p>\n",
    "    同一时间内运行多个任务\n",
    "    <br>进程：是正在运行的实例\n"
   ]
  },
  {
   "attachments": {
    "u=4276566343,2033327532&fm=26&gp=0.jpg": {
     "image/jpeg": "[encoded data removed]"
    }
   },
   "cell_type": "markdown",
   "metadata": {},
   "source": [
    "![u=4276566343,2033327532&fm=26&gp=0.jpg](attachment:u=4276566343,2033327532&fm=26&gp=0.jpg)"
   ]
  },
  {
   "cell_type": "code",
   "execution_count": null,
   "metadata": {},
   "outputs": [],
   "source": [
    "# 利用函数_thread模块实现线程\n",
    "import _thread\n",
    "import time\n",
    "# 为线程定义一个函数\n",
    "def print_time(treadName,delay):\n",
    "    count = 0\n",
    "    while"
   ]
  }
 ],
 "metadata": {
  "kernelspec": {
   "display_name": "Python 3",
   "language": "python",
   "name": "python3"
  },
  "language_info": {
   "codemirror_mode": {
    "name": "ipython",
    "version": 3
   },
   "file_extension": ".py",
   "mimetype": "text/x-python",
   "name": "python",
   "nbconvert_exporter": "python",
   "pygments_lexer": "ipython3",
   "version": "3.8.3"
  }
 },
 "nbformat": 4,
 "nbformat_minor": 4
}
