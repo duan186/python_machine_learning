{
 "cells": [
  {
   "cell_type": "markdown",
   "metadata": {},
   "source": [
    "# 第五章 挖掘与建模\n"
   ]
  },
  {
   "cell_type": "markdown",
   "metadata": {},
   "source": [
    "分类与预测   \n",
    "聚类分析   \n",
    "关联规则  \n",
    "时序模式   \n",
    "离群检测"
   ]
  },
  {
   "cell_type": "markdown",
   "metadata": {},
   "source": [
    "## 5.1 挖掘与建模"
   ]
  },
  {
   "cell_type": "markdown",
   "metadata": {},
   "source": [
    "分类：将数据映射到预先定义好的群组或类"
   ]
  },
  {
   "cell_type": "markdown",
   "metadata": {},
   "source": [
    "预测：主要是建立连续值函数模型，预测给定自变量对应因变量的值"
   ]
  },
  {
   "cell_type": "markdown",
   "metadata": {},
   "source": [
    "### 5.1.1 实现过程"
   ]
  },
  {
   "cell_type": "markdown",
   "metadata": {},
   "source": [
    "分类  \n",
    "构造一个分类模型，输入样本属性，输出对应类别，将样本映射到预先定义好的类别  \n",
    "预测  \n",
    "建立两种或两种以上相互依赖的函数模型，然后进行预测"
   ]
  },
  {
   "cell_type": "markdown",
   "metadata": {},
   "source": [
    "### 5.1.2 常用的分类和预测算法"
   ]
  },
  {
   "cell_type": "markdown",
   "metadata": {},
   "source": [
    "回归分析、决策树、人工神经网络、贝叶斯网络"
   ]
  },
  {
   "cell_type": "markdown",
   "metadata": {},
   "source": [
    "### 5.1.3 回归分析"
   ]
  },
  {
   "cell_type": "markdown",
   "metadata": {},
   "source": []
  }
 ],
 "metadata": {
  "kernelspec": {
   "display_name": "Python 3",
   "language": "python",
   "name": "python3"
  },
  "language_info": {
   "codemirror_mode": {
    "name": "ipython",
    "version": 3
   },
   "file_extension": ".py",
   "mimetype": "text/x-python",
   "name": "python",
   "nbconvert_exporter": "python",
   "pygments_lexer": "ipython3",
   "version": "3.8.3"
  }
 },
 "nbformat": 4,
 "nbformat_minor": 4
}
